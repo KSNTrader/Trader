{
  "nbformat": 4,
  "nbformat_minor": 0,
  "metadata": {
    "colab": {
      "private_outputs": true,
      "provenance": [],
      "collapsed_sections": [
        "R9SXwgDUtk-0",
        "AjB9pjVutoi-",
        "cB_SLF21tsb_",
        "YJieRD8Ut8kR",
        "EfeF0MaauCjC"
      ],
      "include_colab_link": true
    },
    "kernelspec": {
      "name": "python3",
      "display_name": "Python 3"
    },
    "language_info": {
      "name": "python"
    },
    "gpuClass": "standard"
  },
  "cells": [
    {
      "cell_type": "markdown",
      "metadata": {
        "id": "view-in-github",
        "colab_type": "text"
      },
      "source": [
        "<a href=\"https://colab.research.google.com/github/KSNTrader/Trader/blob/main/2022_12_26_Selecionando_Jogos_para_suas_Estrat%C3%A9gias_(Atualizado)_2023.ipynb\" target=\"_parent\"><img src=\"https://colab.research.google.com/assets/colab-badge.svg\" alt=\"Open In Colab\"/></a>"
      ]
    },
    {
      "cell_type": "code",
      "source": [
        "import datetime\n",
        "from datetime import date\n",
        "from datetime import timedelta\n",
        "\n",
        "Date = date.today() + timedelta(days=1)\n",
        "print(\"Data de Análise:\",Date)"
      ],
      "metadata": {
        "id": "XEvLUOoptyk5"
      },
      "execution_count": null,
      "outputs": []
    },
    {
      "cell_type": "markdown",
      "source": [
        "# Importando as Bibliotecas"
      ],
      "metadata": {
        "id": "R9SXwgDUtk-0"
      }
    },
    {
      "cell_type": "code",
      "execution_count": null,
      "metadata": {
        "id": "_gOIXwnbhD_f"
      },
      "outputs": [],
      "source": [
        "import pandas as pd\n",
        "import numpy as np\n",
        "from google.colab import data_table\n",
        "data_table.enable_dataframe_formatter()\n",
        "import warnings\n",
        "warnings.filterwarnings('ignore')"
      ]
    },
    {
      "cell_type": "markdown",
      "source": [
        "# Importando a Base de Dados"
      ],
      "metadata": {
        "id": "AjB9pjVutoi-"
      }
    },
    {
      "cell_type": "code",
      "source": [
        "df = pd.read_excel(\"https://github.com/KSNTrader/Trader/blob/main/Argentina%20jogos%20Hoje.xlsx\")"
      ],
      "metadata": {
        "id": "-p0bWCz6hQ2o"
      },
      "execution_count": null,
      "outputs": []
    },
    {
      "cell_type": "code",
      "source": [
        "# Resultado\n",
        "df.loc[df['FT_Goals_H'] > df['FT_Goals_A'], 'FT_Result'] = \"H\"\n",
        "df.loc[df['FT_Goals_H'] == df['FT_Goals_A'], 'FT_Result'] = \"D\"\n",
        "df.loc[df['FT_Goals_H'] < df['FT_Goals_A'], 'FT_Result'] = \"A\"\n",
        "\n",
        "# # Probabilidades\n",
        "df['p_H'] = 1 / df.FT_Odds_H\n",
        "df['p_D'] = 1 / df.FT_Odds_D\n",
        "df['p_A'] = 1 / df.FT_Odds_A\n",
        "\n",
        "# Valor do Gol\n",
        "df['VG_H'] = df.FT_Goals_H * df.p_A\n",
        "df['VG_A'] = df.FT_Goals_A * df.p_H\n",
        "df['Media_VG_H'] = df.groupby('Home')['VG_H'].rolling(window=5, min_periods=2).mean().reset_index(0,drop=True)\n",
        "df['Media_VG_A'] = df.groupby('Away')['VG_A'].rolling(window=5, min_periods=2).mean().reset_index(0,drop=True)\n",
        "df['DesvPad_VG_H'] = df.groupby('Home')['VG_H'].rolling(window=5, min_periods=2).std().reset_index(0,drop=True)\n",
        "df['DesvPad_VG_A'] = df.groupby('Away')['VG_A'].rolling(window=5, min_periods=2).std().reset_index(0,drop=True)\n",
        "df['CV_VG_H'] = df['DesvPad_VG_H'] / df['Media_VG_H']\n",
        "df['CV_VG_A'] = df['DesvPad_VG_A'] / df['Media_VG_A']\n",
        "\n",
        "# Custo do Gol\n",
        "df['CG_H'] = df.p_H / df.FT_Goals_H\n",
        "df['CG_A'] = df.p_A / df.FT_Goals_A\n",
        "df['Media_CG_H'] = df.groupby('Home')['CG_H'].rolling(window=5, min_periods=2).mean().reset_index(0,drop=True)\n",
        "df['Media_CG_A'] = df.groupby('Away')['CG_A'].rolling(window=5, min_periods=2).mean().reset_index(0,drop=True)\n",
        "df['DesvPad_CG_H'] = df.groupby('Home')['CG_H'].rolling(window=5, min_periods=2).std().reset_index(0,drop=True)\n",
        "df['DesvPad_CG_A'] = df.groupby('Away')['CG_A'].rolling(window=5, min_periods=2).std().reset_index(0,drop=True)\n",
        "df['CV_CG_H'] = df['DesvPad_CG_H'] / df['Media_CG_H']\n",
        "df['CV_CG_A'] = df['DesvPad_CG_A'] / df['Media_CG_A']\n",
        "\n",
        "# Arredondando as Variáveis\n",
        "df['Media_VG_H'] = round(df['Media_VG_H'], 4)\n",
        "df['Media_VG_A'] = round(df['Media_VG_A'], 4)\n",
        "df['CV_VG_H'] = round(df['CV_VG_H'], 4)\n",
        "df['CV_VG_A'] = round(df['CV_VG_A'], 4)\n",
        "df['Media_CG_H'] = round(df['Media_CG_H'], 4)\n",
        "df['Media_CG_A'] = round(df['Media_CG_A'], 4)\n",
        "df['CV_CG_H'] = round(df['CV_CG_H'], 4)\n",
        "df['CV_CG_A'] = round(df['CV_CG_A'], 4)\n",
        "\n",
        "df.replace(np.inf, 1, inplace=True)\n",
        "df.dropna(inplace=True)\n",
        "df.reset_index(inplace=True, drop=True)\n",
        "df.index = df.index.set_names(['Nº'])\n",
        "df = df.rename(index=lambda x: x + 1)"
      ],
      "metadata": {
        "id": "n6NB2nQhhQ7d"
      },
      "execution_count": null,
      "outputs": []
    },
    {
      "cell_type": "markdown",
      "source": [
        "# Importando os Jogos do Dia"
      ],
      "metadata": {
        "id": "cB_SLF21tsb_"
      }
    },
    {
      "cell_type": "code",
      "source": [
        "jogos_do_dia = pd.read_excel('https://github.com/futpythontrader/YouTube/blob/main/Jogos_do_Dia/'+str(Date)+'_FutPythonTrader_Jogos_do_Dia.xlsx?raw=true')"
      ],
      "metadata": {
        "id": "VUUavlP-hnmq"
      },
      "execution_count": null,
      "outputs": []
    },
    {
      "cell_type": "markdown",
      "source": [
        "# Concatenando os Jogos do Dia com a Base de Dados"
      ],
      "metadata": {
        "id": "YJieRD8Ut8kR"
      }
    },
    {
      "cell_type": "code",
      "source": [
        "df_H = df[['Home','Media_VG_H','CV_VG_H','Media_CG_H','CV_CG_H']]\n",
        "df_A = df[['Away','Media_VG_A','CV_VG_A','Media_CG_A','CV_CG_A']]"
      ],
      "metadata": {
        "id": "DaZaCFzChnoW"
      },
      "execution_count": null,
      "outputs": []
    },
    {
      "cell_type": "code",
      "source": [
        "lista = []\n",
        "\n",
        "for a,b,c,d,e,f,g,h in zip(jogos_do_dia.League,jogos_do_dia.Date,jogos_do_dia.Home,jogos_do_dia.Away,jogos_do_dia.FT_Odds_H,jogos_do_dia.FT_Odds_D,jogos_do_dia.FT_Odds_A,jogos_do_dia.FT_Odds_Over25):\n",
        "    try:\n",
        "        League = a\n",
        "        Date = b\n",
        "        home = c\n",
        "        away = d\n",
        "        FT_Odd_H = e\n",
        "        FT_Odd_D = f\n",
        "        FT_Odd_A = g\n",
        "        FT_Odd_Over25 = h\n",
        "\n",
        "        df1 = df_H[df_H.Home == home].tail(1)\n",
        "\n",
        "        df2 = df_A[df_A.Away == away].tail(1)\n",
        "\n",
        "        jogo = {}\n",
        "\n",
        "        jogo[\"League\"] = League\n",
        "        jogo[\"Date\"] = Date\n",
        "        jogo[\"Home\"] = home\n",
        "        jogo[\"Away\"] = away\n",
        "        jogo[\"FT_Odd_H\"] = FT_Odd_H\n",
        "        jogo[\"FT_Odd_D\"] = FT_Odd_D\n",
        "        jogo[\"FT_Odd_A\"] = FT_Odd_A\n",
        "        jogo[\"FT_Odd_Over25\"] = FT_Odd_Over25\n",
        "        jogo[\"Media_VG_H\"] = df1[df1.Home == home]['Media_VG_H'].iloc[0]\n",
        "        jogo[\"CV_VG_H\"] = df1[df1.Home == home]['CV_VG_H'].iloc[0]\n",
        "        jogo[\"Media_CG_H\"] = df1[df1.Home == home]['Media_CG_H'].iloc[0]\n",
        "        jogo[\"CV_CG_H\"] = df1[df1.Home == home]['CV_CG_H'].iloc[0]\n",
        "        jogo[\"Media_VG_A\"] = df2[df2.Away == away]['Media_VG_A'].iloc[0]\n",
        "        jogo[\"CV_VG_A\"] = df2[df2.Away == away]['CV_VG_A'].iloc[0]\n",
        "        jogo[\"Media_CG_A\"] = df2[df2.Away == away]['Media_CG_A'].iloc[0]\n",
        "        jogo[\"CV_CG_A\"] = df2[df2.Away == away]['CV_CG_A'].iloc[0]\n",
        "\n",
        "        lista.append(jogo)\n",
        "\n",
        "    except:\n",
        "        pass\n",
        "\n",
        "df = pd.DataFrame(lista)\n",
        "df.reset_index(inplace=True, drop=True)\n",
        "df.index = df.index.set_names(['Nº'])\n",
        "df = df.rename(index=lambda x: x + 1)\n",
        "df"
      ],
      "metadata": {
        "id": "8BVRHRWQhnrK"
      },
      "execution_count": null,
      "outputs": []
    },
    {
      "cell_type": "markdown",
      "source": [
        "# Filtro de Entradas"
      ],
      "metadata": {
        "id": "EfeF0MaauCjC"
      }
    },
    {
      "cell_type": "code",
      "source": [
        "filtro = (\n",
        "# Valor do Gol do Mandante\n",
        "((df.Media_VG_H >= 0.1) & (df.Media_VG_H <= 0.9))\n",
        "# CV da Média do Valor do Gol do Mandante\n",
        "& ((df.CV_VG_H >= 0.1) & (df.CV_VG_H <= 0.9))\n",
        "# Média do Custo do Gol do Mandante\n",
        "& ((df.Media_CG_H >= 0.1) & (df.Media_CG_H <= 0.9))\n",
        "# CV da Média do Custo do Gol do Mandante\n",
        "& ((df.CV_CG_H >= 0.1) & (df.CV_CG_H <= 0.9))\n",
        "# Valor do Gol do Visitante\n",
        "& ((df.Media_VG_A >= 0.1) & (df.Media_VG_A <= 0.9))\n",
        "# CV da Média do Valor do Gol do Visitante\n",
        "& ((df.CV_VG_A >= 0.1) & (df.CV_VG_A <= 0.9))\n",
        "# Média do Custo do Gol do Visitante\n",
        "& ((df.Media_CG_A >= 0.1) & (df.Media_CG_A <= 0.9))\n",
        "# CV da Média do Custo do Gol do Visitante\n",
        "& ((df.CV_CG_A >= 0.1) & (df.CV_CG_A <= 0.9))\n",
        ")\n",
        "\n",
        "Entradas = df[filtro]\n",
        "Entradas.reset_index(inplace=True, drop=True)\n",
        "Entradas.index = Entradas.index.set_names(['Nº'])\n",
        "Entradas = Entradas.rename(index=lambda x: x + 1)"
      ],
      "metadata": {
        "id": "t5xDYsBqrhWN"
      },
      "execution_count": null,
      "outputs": []
    },
    {
      "cell_type": "markdown",
      "source": [
        "# Entradas"
      ],
      "metadata": {
        "id": "zD9nmU-auHGZ"
      }
    },
    {
      "cell_type": "code",
      "source": [
        "Entradas"
      ],
      "metadata": {
        "id": "VmvDcsvnuI--"
      },
      "execution_count": null,
      "outputs": []
    }
  ]
}